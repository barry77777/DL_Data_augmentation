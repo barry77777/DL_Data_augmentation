{
 "cells": [
  {
   "cell_type": "code",
   "execution_count": 19,
   "metadata": {},
   "outputs": [],
   "source": [
    "## Data augmentation using in python using Keras\n",
    "from keras.preprocessing.image import ImageDataGenerator , array_to_img ,img_to_array , load_img"
   ]
  },
  {
   "cell_type": "code",
   "execution_count": 20,
   "metadata": {},
   "outputs": [],
   "source": [
    "# Initialising the ImageDataGenerator class.\n",
    "# We will pass in the augmentation parameters in the constructor.\n",
    "datagen = ImageDataGenerator( \n",
    "    rotation_range=180, # Rotation range (degrees)\n",
    "    width_shift_range=0.2, # Shift range along width\n",
    "    height_shift_range=0.2, # Shift range along height \n",
    "    shear_range=0.2, # Shear intensity \n",
    "    zoom_range=0.2, # Zoom range \n",
    "    brightness_range = (0.5, 1.5),# to change brightness\n",
    "    horizontal_flip=True, # Allow horizontal flipping\n",
    "    fill_mode='nearest' # Fill mode for newly created pixels\n",
    ")"
   ]
  },
  {
   "cell_type": "code",
   "execution_count": 21,
   "metadata": {},
   "outputs": [],
   "source": [
    "# Loading a sample image \n",
    "image = load_img('doggo.png')\n",
    "\n",
    "# converting input image to array\n",
    "x = img_to_array(image)\n",
    "\n",
    "# Reshaping the input image to size(1,3,150,150)\n",
    "x= x.reshape((1,) + x.shape)"
   ]
  },
  {
   "cell_type": "code",
   "execution_count": 22,
   "metadata": {},
   "outputs": [],
   "source": [
    "## the .flow() function produces batch of randomly tranformed images and saves the result to 'afteraug' folder which is mentioned\n",
    "i = 0\n",
    "for batch in datagen.flow(x, batch_size = 1,save_to_dir ='afteraug', save_prefix='lion', save_format= 'png'):\n",
    "    i += 1\n",
    "    if i > 25:  ## 20 iterations takes place\n",
    "        break  ## to break the loop\n",
    "    "
   ]
  }
 ],
 "metadata": {
  "kernelspec": {
   "display_name": "Python 3 (ipykernel)",
   "language": "python",
   "name": "python3"
  },
  "language_info": {
   "codemirror_mode": {
    "name": "ipython",
    "version": 3
   },
   "file_extension": ".py",
   "mimetype": "text/x-python",
   "name": "python",
   "nbconvert_exporter": "python",
   "pygments_lexer": "ipython3",
   "version": "3.10.6"
  }
 },
 "nbformat": 4,
 "nbformat_minor": 4
}
